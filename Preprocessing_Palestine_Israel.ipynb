{
 "cells": [
  {
   "cell_type": "markdown",
   "id": "745b0190-ee38-4b6b-99f1-aa8a35ea6732",
   "metadata": {},
   "source": [
    "# Loading the dataset and libraries "
   ]
  },
  {
   "cell_type": "markdown",
   "id": "76629cca-32bc-463b-aa21-8c7fdecd9ebd",
   "metadata": {},
   "source": [
    "This dataset records fatalities in the Israeli-Palestinian conflict from 2000 to 2023. It provides extensive details on individual casualties, including personal information, event specifics, and circumstances of death => [link of dataset.](https://www.kaggle.com/datasets/asaniczka/fatalities-in-the-israeli-palestinian-conflict/code)"
   ]
  },
  {
   "cell_type": "code",
   "execution_count": 84,
   "id": "2d164f96-cf06-4755-8370-e9c39f8d6256",
   "metadata": {},
   "outputs": [],
   "source": [
    "import numpy as np\n",
    "import pandas as pd "
   ]
  },
  {
   "cell_type": "code",
   "execution_count": 85,
   "id": "c279ce1c-b574-4458-b6d8-414a278afd17",
   "metadata": {},
   "outputs": [],
   "source": [
    "data = pd.read_csv(\"fatalities_isr_pse_conflict_2000_to_2023.csv\")"
   ]
  },
  {
   "cell_type": "code",
   "execution_count": null,
   "id": "9a3a32cd-89f0-4d8d-8294-6f250ad1063c",
   "metadata": {
    "scrolled": true
   },
   "outputs": [],
   "source": [
    "data.head()\n",
    "# data.info()\n",
    "# data.shape\n",
    "# data.dtypes\n",
    "# data.describe()\n"
   ]
  },
  {
   "cell_type": "code",
   "execution_count": 87,
   "id": "88d6177c-0985-4ad4-a980-efa000b24561",
   "metadata": {},
   "outputs": [
    {
     "data": {
      "text/plain": [
       "name                               0\n",
       "date_of_event                      0\n",
       "age                              129\n",
       "citizenship                        0\n",
       "event_location                     0\n",
       "event_location_district            0\n",
       "event_location_region              0\n",
       "date_of_death                      0\n",
       "gender                            20\n",
       "took_part_in_the_hostilities    1430\n",
       "place_of_residence                68\n",
       "place_of_residence_district       68\n",
       "type_of_injury                   291\n",
       "ammunition                      5253\n",
       "killed_by                          0\n",
       "notes                            280\n",
       "dtype: int64"
      ]
     },
     "execution_count": 87,
     "metadata": {},
     "output_type": "execute_result"
    }
   ],
   "source": [
    "data.isnull().sum()"
   ]
  },
  {
   "cell_type": "code",
   "execution_count": 88,
   "id": "7f46f10c-db0f-427c-a279-4870977bd4b4",
   "metadata": {},
   "outputs": [
    {
     "name": "stdout",
     "output_type": "stream",
     "text": [
      " nbr of missing values in both 2 columns is : 68\n"
     ]
    }
   ],
   "source": [
    "missing_values_both_columns = (data['place_of_residence'].isnull() & data['place_of_residence_district'].isnull()).sum()\n",
    "print(f\" nbr of missing values in both 2 columns is : {missing_values_both_columns}\")"
   ]
  },
  {
   "cell_type": "markdown",
   "id": "85ea1ab2-aefb-47c0-ac2f-9bb61ebe2d79",
   "metadata": {},
   "source": [
    "### Indications from data\n",
    "#### Null Values \n",
    "* total records : 11124\n",
    "* Age: 129\n",
    "* took_part_in_the_hostilities: 1430\n",
    "* type_of_injury: 291\n",
    "* ammunition: 5253\n",
    "* notes: 280\n",
    "#### Objects Vs Float \n",
    "* all columns are objects except age ( float )."
   ]
  },
  {
   "cell_type": "code",
   "execution_count": 89,
   "id": "303cc832-0ad4-48a9-a20f-e8cfd209a120",
   "metadata": {},
   "outputs": [
    {
     "name": "stdout",
     "output_type": "stream",
     "text": [
      "*** Unique values for [citizenship] is : ['Palestinian' 'Israeli' 'Jordanian' 'American']\n",
      "*** Unique values for [event_location_district] is : ['Tulkarm' 'Jenin' 'Jericho' 'Gaza' 'Hebron' 'Tubas'\n",
      " 'Ramallah and al-Bira' 'East Jerusalem' 'Nablus' 'Israel' 'al-Quds'\n",
      " 'Bethlehem' 'Khan Yunis' 'Deir al-Balah' 'North Gaza' 'Rafah' 'Qalqiliya'\n",
      " 'Salfit' 'Gaza Strip' 'Gush Katif']\n",
      "*** Unique values for [event_location_region] is : ['West Bank' 'Gaza Strip' 'Israel']\n",
      "*** Unique values for [gender] is : ['M' 'F' nan]\n",
      "*** Unique values for [took_part_in_the_hostilities] is : [nan 'No' 'Yes' 'Unknown' 'Israelis' 'Object of targeted killing']\n",
      "*** Unique values for [place_of_residence_district] is : ['Tulkarm' 'Jenin' 'Jericho' 'Khan Yunis' 'Hebron' 'Tubas'\n",
      " 'Ramallah and al-Bira' 'East Jerusalem' 'Israel' 'Nablus' 'al-Quds'\n",
      " 'Bethlehem' 'Gaza' 'Rafah' 'Deir al-Balah' 'North Gaza' 'Salfit'\n",
      " 'Qalqiliya' nan 'Gush Katif' 'West Bank']\n",
      "*** Unique values for [type_of_injury] is : ['gunfire' 'stabbing' 'hit by a vehicle' 'explosion' 'physical assault'\n",
      " 'shelling' 'being bludgeoned with an axe' 'physically assaulted'\n",
      " 'beating' 'stones throwing' 'Strangulation' nan 'fire' 'house demolition']\n",
      "*** Unique values for [ammunition] is : ['live ammunition' 'missile' nan 'rocket' '0.22-caliber bullets' 'bomb'\n",
      " 'knife' 'shell' 'rock' 'rubber-coated metal bullets' 'stun grenade'\n",
      " 'teargas canister' 'flare bomb' 'sponge rounds' 'mortar fire'\n",
      " 'grad rocket' 'flechette shells' 'phosphorus shell' 'Qassam rocket'\n",
      " 'explosive belt' 'grenade' 'car bomb']\n",
      "*** Unique values for [killed_by] is : ['Israeli security forces' 'Palestinian civilians' 'Israeli civilians']\n"
     ]
    }
   ],
   "source": [
    "# Unique values \n",
    "unique_values_per_column = { col: data[col].unique() for col in data.columns if data[col].nunique() < 30 }\n",
    "for col, val in unique_values_per_column.items():\n",
    "    print(f\"*** Unique values for [{col}] is : {val}\")"
   ]
  },
  {
   "cell_type": "markdown",
   "id": "c8aa0db8-ae61-4800-88d6-27b8090cd9b3",
   "metadata": {},
   "source": [
    "# Missing Values \n",
    "* **age** : it is really important for our case, so if we keep those 129 Nan in our dataset the result of our analyse will be incorrect ( drop NaN values ).\n",
    "* **took_par_in_hostilities** : there are like 4 unique values ( one of them is : Unknown ), so we are going to label NaN of this attribute as Unknown.\n",
    "* **type_of_injuries** : we only going to do derive insights from this dataset using visualization, so we are going to replace NaN with Unknown.\n",
    "* **ammunition** : we only going to do derive insights from this dataset using visualization, so we are going to replace NaN with Unknown.\n",
    "* **notes** : we are going to replace NaN with No_Note.\n",
    "* **place_of_residence** & **place_of_residence_district**: are 44 missing values at the same level, we can only drop them because we are trying to get the most correct result of visualization as possible.   "
   ]
  },
  {
   "cell_type": "code",
   "execution_count": 90,
   "id": "2b249bdb-c53b-4638-97b4-03ca4e075b37",
   "metadata": {},
   "outputs": [],
   "source": [
    "# drop age nan values \n",
    "data.dropna(subset='age',inplace=True)\n",
    "# data['age'].fillna(-1,inplace=True)"
   ]
  },
  {
   "cell_type": "code",
   "execution_count": 91,
   "id": "c939ea36-58ce-43bd-8537-5a5b3067d263",
   "metadata": {},
   "outputs": [],
   "source": [
    "# replace nan with Unkown \n",
    "data['took_part_in_the_hostilities'].fillna('Unknown',inplace=True)\n",
    "data['type_of_injury'].fillna('Unkown',inplace=True)\n",
    "data['ammunition'].fillna('Unkown',inplace=True)"
   ]
  },
  {
   "cell_type": "code",
   "execution_count": 92,
   "id": "1df04a08-5c31-43b0-bf8d-259a51c27353",
   "metadata": {},
   "outputs": [],
   "source": [
    "# drop place_of_residence nan values : \n",
    "data.dropna(subset='place_of_residence_district',inplace=True)"
   ]
  },
  {
   "cell_type": "code",
   "execution_count": 93,
   "id": "2366e32e-b3db-4ac7-8f6b-bdbf9c957b0b",
   "metadata": {},
   "outputs": [],
   "source": [
    "# replace missing values with no note.\n",
    "data['notes'].fillna('No note', inplace=True)"
   ]
  },
  {
   "cell_type": "code",
   "execution_count": 94,
   "id": "74838dc4-432c-4a1a-9f24-39e83b4f4743",
   "metadata": {},
   "outputs": [
    {
     "name": "stdout",
     "output_type": "stream",
     "text": [
      "the total number of records remain with no missing values is : 10951\n"
     ]
    }
   ],
   "source": [
    "print(f\"the total number of records remain with no missing values is : {data.shape[0]}\")"
   ]
  },
  {
   "cell_type": "code",
   "execution_count": null,
   "id": "46c4c5eb-76df-4343-af40-ff9581f2fc75",
   "metadata": {
    "scrolled": true
   },
   "outputs": [],
   "source": [
    "data.head()"
   ]
  },
  {
   "cell_type": "markdown",
   "id": "fbc2c90a-347a-4db9-b7fa-4b78c6f86387",
   "metadata": {},
   "source": [
    "# Location - Longitude and Latitude "
   ]
  },
  {
   "cell_type": "markdown",
   "id": "6a462370-da59-456a-a339-6a2af5a1c50c",
   "metadata": {},
   "source": [
    "* We are going to use the popular geocoding service : OpenCage Geocoding API\n",
    "  1. install library OpenCage\n",
    "  2. load library Open Cage \n",
    "  3. first sing up and get the api key\n",
    "  4. start converting each place_of_residence_district to geocoding location.\n",
    " \n",
    "!! Geocoding API Plan : free trial, allows up to 2,500 API requests/day for testing"
   ]
  },
  {
   "cell_type": "code",
   "execution_count": null,
   "id": "1113babb-d007-4bc3-bf8b-d074b2ae6449",
   "metadata": {},
   "outputs": [],
   "source": [
    "data.columns"
   ]
  },
  {
   "cell_type": "code",
   "execution_count": null,
   "id": "58df4086-b58f-4745-b36a-7665c28b32f8",
   "metadata": {},
   "outputs": [],
   "source": [
    "# get the unique values of combined ( region and district ) \n",
    "unique_combinations = data.drop_duplicates(subset=[\"event_location_region\",\"event_location_district\"])\n",
    "for index, row in unique_combinations.iterrows():\n",
    "    print(f\"Region : {row['event_location_region']}, District : {row['event_location_district']}\")\n"
   ]
  },
  {
   "cell_type": "code",
   "execution_count": 98,
   "id": "61b860db-b4c3-46ea-b05b-75ce413b4266",
   "metadata": {},
   "outputs": [],
   "source": [
    "# load the OpenCage library \n",
    "from geopy.geocoders import OpenCage\n",
    "# Set up the OpenCage geocoder\n",
    "geocoder = OpenCage(api_key='89de0afb64e04eb7933f0c252039ff3a')"
   ]
  },
  {
   "cell_type": "code",
   "execution_count": 99,
   "id": "57a08803-20c4-46b4-8c7a-015979f6d51d",
   "metadata": {},
   "outputs": [],
   "source": [
    "coordinate_list = []\n",
    "for index, row in unique_combinations.iterrows():\n",
    "    location = geocoder.geocode(f\"{row['event_location_region']}, {row['event_location_district']}\")\n",
    "    if location:\n",
    "        coordinate_list.append([\n",
    "            row['event_location_region'],\n",
    "            row['event_location_district'],\n",
    "            location.latitude,\n",
    "            location.longitude\n",
    "        ])\n",
    "    else:\n",
    "        print(f\"Could not find coordinates for {row['event_location_region']}, {row['event_location_district']}\")\n",
    "        "
   ]
  },
  {
   "cell_type": "code",
   "execution_count": 100,
   "id": "f398a533-877b-4ebd-a68b-8dd20e79eeee",
   "metadata": {},
   "outputs": [],
   "source": [
    "# we are going to create a dataframe from this list then we are going to merge ( left join ) it with original one and then we drop unecessary columns.\n",
    "coordinate_df = pd.DataFrame(coordinate_list,columns=['event_location_region','event_location_district','latitude','longitude'])"
   ]
  },
  {
   "cell_type": "code",
   "execution_count": 101,
   "id": "90dd4d7b-161e-4d71-ac67-c4a99b1834b9",
   "metadata": {},
   "outputs": [],
   "source": [
    "# Merging the 2 dataframes together \n",
    "data = pd.merge(data,coordinate_df,on=['event_location_region','event_location_district'],how='left')"
   ]
  },
  {
   "cell_type": "markdown",
   "id": "58637b19-0067-4071-bd6b-1a109e55f44e",
   "metadata": {},
   "source": [
    "# Preparing format  "
   ]
  },
  {
   "cell_type": "code",
   "execution_count": 102,
   "id": "f8b83fb4-9331-48c6-ad60-b25a1fe09767",
   "metadata": {},
   "outputs": [
    {
     "data": {
      "text/plain": [
       "Index(['name', 'date_of_event', 'age', 'citizenship', 'event_location',\n",
       "       'event_location_district', 'event_location_region', 'date_of_death',\n",
       "       'gender', 'took_part_in_the_hostilities', 'place_of_residence',\n",
       "       'place_of_residence_district', 'type_of_injury', 'ammunition',\n",
       "       'killed_by', 'notes', 'latitude', 'longitude'],\n",
       "      dtype='object')"
      ]
     },
     "execution_count": 102,
     "metadata": {},
     "output_type": "execute_result"
    }
   ],
   "source": [
    "data.columns"
   ]
  },
  {
   "cell_type": "code",
   "execution_count": 103,
   "id": "f22b5307-88c9-4eb6-a7ea-5e1977d870b1",
   "metadata": {},
   "outputs": [],
   "source": [
    "# date_of_event: object => datetime  \n",
    "# date_of_death : object => datetime \n",
    "data['date_of_event'] = pd.to_datetime(data['date_of_event'],format='%Y-%m-%d')\n",
    "data['date_of_death'] = pd.to_datetime(data['date_of_death'],format='%Y-%m-%d')"
   ]
  },
  {
   "cell_type": "code",
   "execution_count": 104,
   "id": "0520aca2-c465-48e8-b072-db4bf903885d",
   "metadata": {},
   "outputs": [],
   "source": [
    "# Age => int8\n",
    "data['age'] = data['age'].astype('int8')"
   ]
  },
  {
   "cell_type": "code",
   "execution_count": 105,
   "id": "91682dd8-9d47-42ed-ad10-da086849e7d0",
   "metadata": {
    "scrolled": true
   },
   "outputs": [
    {
     "data": {
      "text/plain": [
       "name                                    object\n",
       "date_of_event                   datetime64[ns]\n",
       "age                                       int8\n",
       "citizenship                             object\n",
       "event_location                          object\n",
       "event_location_district                 object\n",
       "event_location_region                   object\n",
       "date_of_death                   datetime64[ns]\n",
       "gender                                  object\n",
       "took_part_in_the_hostilities            object\n",
       "place_of_residence                      object\n",
       "place_of_residence_district             object\n",
       "type_of_injury                          object\n",
       "ammunition                              object\n",
       "killed_by                               object\n",
       "notes                                   object\n",
       "latitude                               float64\n",
       "longitude                              float64\n",
       "dtype: object"
      ]
     },
     "execution_count": 105,
     "metadata": {},
     "output_type": "execute_result"
    }
   ],
   "source": [
    "data.dtypes"
   ]
  },
  {
   "cell_type": "markdown",
   "id": "9bd1c8f0-30ed-4262-b71a-0ac6f697c27e",
   "metadata": {},
   "source": [
    "# Saving the cleaned Dataset as CSV file "
   ]
  },
  {
   "cell_type": "code",
   "execution_count": 106,
   "id": "6fa634c4-e9fd-42ce-bc19-4ffcccd6ca77",
   "metadata": {},
   "outputs": [],
   "source": [
    "data.to_csv('fatalities_isr_pse_conflict_2000_to_2023_Clean.csv', index=False)"
   ]
  }
 ],
 "metadata": {
  "kernelspec": {
   "display_name": "Python 3 (ipykernel)",
   "language": "python",
   "name": "python3"
  },
  "language_info": {
   "codemirror_mode": {
    "name": "ipython",
    "version": 3
   },
   "file_extension": ".py",
   "mimetype": "text/x-python",
   "name": "python",
   "nbconvert_exporter": "python",
   "pygments_lexer": "ipython3",
   "version": "3.12.0"
  }
 },
 "nbformat": 4,
 "nbformat_minor": 5
}
